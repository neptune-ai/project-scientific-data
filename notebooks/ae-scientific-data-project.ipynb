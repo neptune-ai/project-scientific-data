{
 "cells": [
  {
   "cell_type": "code",
   "execution_count": 1,
   "id": "57139f33-75ea-415d-93d2-4d07533ed3a3",
   "metadata": {},
   "outputs": [],
   "source": [
    "import torch\n",
    "import torch.nn as nn\n",
    "import torch.nn.functional as F\n",
    "from torch import nn, optim\n",
    "from torch.autograd import Variable\n",
    "from torch.utils.data import Dataset, DataLoader\n",
    "from sklearn.decomposition import PCA\n",
    "\n",
    "import pandas as pd\n",
    "import numpy as np\n",
    "from sklearn import svm\n",
    "from sklearn import preprocessing\n",
    "from sklearn.model_selection import cross_val_score\n",
    "from sklearn.model_selection import train_test_split\n",
    "from sklearn.metrics import precision_score, accuracy_score, recall_score"
   ]
  },
  {
   "cell_type": "code",
   "execution_count": 2,
   "id": "abe2e1ac-c49d-4c6b-ab00-91c81abfb862",
   "metadata": {},
   "outputs": [
    {
     "data": {
      "text/plain": [
       "device(type='cpu')"
      ]
     },
     "execution_count": 2,
     "metadata": {},
     "output_type": "execute_result"
    }
   ],
   "source": [
    "device = torch.device('cuda' if torch.cuda.is_available() else 'cpu')\n",
    "device"
   ]
  },
  {
   "cell_type": "markdown",
   "id": "b69db15c-fcf5-4554-928a-81708f61a6c0",
   "metadata": {},
   "source": [
    "## Config"
   ]
  },
  {
   "cell_type": "code",
   "execution_count": 3,
   "id": "74a6f0c9-a3ee-40db-a533-f8542eaadfdf",
   "metadata": {},
   "outputs": [],
   "source": [
    "class config:\n",
    "    TEST_SIZE = 0.30\n",
    "    VAL_SIZE = 0.50\n",
    "    N_COMPONENTS = 5\n",
    "    SCALER = False\n",
    "    SEED = 2022\n",
    "    COLUMN_SELECT = False\n",
    "    NTH_COLUMN = 10"
   ]
  },
  {
   "cell_type": "markdown",
   "id": "7b3628a1-6831-427d-a036-3ba4d2fd533f",
   "metadata": {},
   "source": [
    "## Basic data management"
   ]
  },
  {
   "cell_type": "code",
   "execution_count": 4,
   "id": "45ec31db-3bc7-4aaf-a081-e142c8c8c597",
   "metadata": {},
   "outputs": [],
   "source": [
    "df = pd.read_csv('../data/covid_and_healthy_spectra.csv')\n",
    "df.diagnostic = df.diagnostic.apply(lambda x: 1 if x == 'SARS-CoV-2' else 0)"
   ]
  },
  {
   "cell_type": "code",
   "execution_count": 525,
   "id": "0e0a5915-047b-41f8-87d1-0e63ac5cdd0a",
   "metadata": {},
   "outputs": [],
   "source": [
    "y = df.diagnostic\n",
    "X = df[df.columns.drop('diagnostic')]"
   ]
  },
  {
   "cell_type": "code",
   "execution_count": 526,
   "id": "4142b742-2a76-4bdc-9a3b-05aba51fa825",
   "metadata": {},
   "outputs": [],
   "source": [
    "def load_and_standardize_data(df, test_size, seed):\n",
    "    df = df.values.reshape(-1, df.shape[1]).astype('float64')\n",
    "    X_train, X_test, y_train, y_test = train_test_split(X, y, test_size=test_size, random_state=seed)\n",
    "    scaler = preprocessing.MinMaxScaler()\n",
    "    X_train = scaler.fit_transform(X_train)\n",
    "    X_test = scaler.transform(X_test)   \n",
    "    return X_train, X_test, y_train, y_test, scaler"
   ]
  },
  {
   "cell_type": "code",
   "execution_count": 527,
   "id": "b89bca90-8a9a-41cd-b81a-410997d544af",
   "metadata": {},
   "outputs": [],
   "source": [
    "X_train, X_test, y_train, y_test, scaler = load_and_standardize_data(df, config.TEST_SIZE, config.SEED)"
   ]
  },
  {
   "cell_type": "markdown",
   "id": "2b793729-edc0-47c5-9f09-036ace6a8d29",
   "metadata": {},
   "source": [
    "## Dataset"
   ]
  },
  {
   "cell_type": "code",
   "execution_count": 580,
   "id": "35a93b97-74a8-4e2d-9cd2-9a62fc4aa424",
   "metadata": {},
   "outputs": [],
   "source": [
    "class DataBuilder(Dataset):\n",
    "    def __init__(self, df, train=True):\n",
    "        self.X_train, self.X_test, self.y_train, self.y_test, self.standardizer = load_and_standardize_data(df, config.TEST_SIZE, config.SEED)\n",
    "        if train:\n",
    "            self.x = torch.from_numpy(self.X_train)\n",
    "            self.y = torch.from_numpy(np.array(self.y_train))\n",
    "            self.len=self.x.shape[0]\n",
    "        else:\n",
    "            self.x = torch.from_numpy(self.X_test)\n",
    "            self.y = torch.from_numpy(np.array(self.y_test))\n",
    "            self.len=self.x.shape[0]\n",
    "        del self.X_train, self.X_test, self.y_train, self.y_test\n",
    "    def __getitem__(self,index):      \n",
    "        return self.x[index], self.y[index]\n",
    "    def __len__(self):\n",
    "        return self.len"
   ]
  },
  {
   "cell_type": "markdown",
   "id": "5a91a2a6-227d-43eb-8418-9f4f28e54690",
   "metadata": {},
   "source": [
    "## DataLoader"
   ]
  },
  {
   "cell_type": "code",
   "execution_count": 529,
   "id": "a82b7d68-2040-4cd0-b2d4-eb49c3504228",
   "metadata": {},
   "outputs": [],
   "source": [
    "traindata_set=DataBuilder(df, train=True)\n",
    "testdata_set=DataBuilder(df, train=False)\n",
    "\n",
    "trainloader=DataLoader(dataset=traindata_set,batch_size=16)\n",
    "testloader=DataLoader(dataset=testdata_set,batch_size=16)"
   ]
  },
  {
   "cell_type": "code",
   "execution_count": 530,
   "id": "b4b37c8d-81b6-4b52-95c0-510f18ca69f2",
   "metadata": {},
   "outputs": [
    {
     "data": {
      "text/plain": [
       "torch.Size([216, 900])"
      ]
     },
     "execution_count": 530,
     "metadata": {},
     "output_type": "execute_result"
    }
   ],
   "source": [
    "trainloader.dataset.x.shape"
   ]
  },
  {
   "cell_type": "code",
   "execution_count": 531,
   "id": "3e679c82-1666-4e80-b512-315641addbc7",
   "metadata": {},
   "outputs": [
    {
     "data": {
      "text/plain": [
       "torch.Size([93, 900])"
      ]
     },
     "execution_count": 531,
     "metadata": {},
     "output_type": "execute_result"
    }
   ],
   "source": [
    "testloader.dataset.x.shape"
   ]
  },
  {
   "cell_type": "markdown",
   "id": "fd123aab-c5bc-4a0c-b556-21ef4906566a",
   "metadata": {},
   "source": [
    "## Define AE architecture"
   ]
  },
  {
   "cell_type": "code",
   "execution_count": 532,
   "id": "504542fe-14ec-424d-8804-c2971b73d51c",
   "metadata": {},
   "outputs": [],
   "source": [
    "class AutoEncoder(nn.Module):\n",
    "    def __init__(self):\n",
    "        super(AutoEncoder, self).__init__()\n",
    "        self.conv1 = nn.Conv1d(1, 8, 3)\n",
    "        self.emb = nn.Conv1d(4, 1, 3)\n",
    "        self.conv2 = nn.Conv1d(1, 8, 3)\n",
    "        self.out = nn.Linear(888, 900)\n",
    "    \n",
    "    def forward(self, x):\n",
    "        x = F.relu(self.conv1(x))\n",
    "        x = F.max_pool2d(x, 2) \n",
    "        x_emb = F.relu(self.emb(x))\n",
    "        x = F.relu(self.conv2(x_emb))\n",
    "        x = F.max_pool2d(x, 2)\n",
    "        x = torch.flatten(x, 1)\n",
    "        output = self.out(x)            \n",
    "        return output, torch.flatten(x_emb,1)"
   ]
  },
  {
   "cell_type": "code",
   "execution_count": 533,
   "id": "4ce6bdd8-9085-4925-ba69-f984a4783e7b",
   "metadata": {},
   "outputs": [],
   "source": [
    "model = AutoEncoder().to(device).double()\n",
    "optimizer = optim.Adam(model.parameters(), lr=1e-2)\n",
    "loss_mse = nn.MSELoss(reduction = 'sum')"
   ]
  },
  {
   "cell_type": "code",
   "execution_count": 534,
   "id": "9aba7eed-c6a2-4040-8c7e-7a0ccd2afb79",
   "metadata": {},
   "outputs": [],
   "source": [
    "epochs = 100\n",
    "log_interval = 50\n",
    "val_losses = []\n",
    "train_losses = []\n",
    "test_losses = []"
   ]
  },
  {
   "cell_type": "markdown",
   "id": "cbf5b8a9-9820-4576-9ac3-ccfbca176c2d",
   "metadata": {},
   "source": [
    "## Define train and test loop"
   ]
  },
  {
   "cell_type": "code",
   "execution_count": 445,
   "id": "cf54ca64-4024-4ac6-bef5-88aeffc177e8",
   "metadata": {},
   "outputs": [],
   "source": [
    "def train(epoch):\n",
    "    model.train()\n",
    "    train_loss = 0\n",
    "    for batch_idx, (inp, y_true) in enumerate(trainloader):\n",
    "        data = inp.to(device).double().unsqueeze(dim=0).permute(1, 0, 2)\n",
    "        optimizer.zero_grad()\n",
    "        out, _ = model(data)\n",
    "        data = data.squeeze()\n",
    "        loss = loss_mse(out, data)\n",
    "        loss.backward()\n",
    "        train_loss += loss.item()\n",
    "        optimizer.step()\n",
    "    if epoch % 5 == 0:        \n",
    "        print('====> Epoch: {} Average training loss: {:.4f}'.format(\n",
    "            epoch, train_loss / len(trainloader.dataset)))\n",
    "        train_losses.append(train_loss / len(trainloader.dataset))"
   ]
  },
  {
   "cell_type": "code",
   "execution_count": 446,
   "id": "12de84da-e3eb-4362-a62b-992ff948c54c",
   "metadata": {},
   "outputs": [],
   "source": [
    "def test(epoch):\n",
    "    with torch.no_grad():\n",
    "        test_loss = 0\n",
    "        for batch_idx, (inp, y_true) in enumerate(testloader):\n",
    "            data = inp.to(device).double().unsqueeze(dim=0).permute(1, 0, 2)\n",
    "            optimizer.zero_grad()\n",
    "            out, _ = model(data)\n",
    "            data = data.squeeze()\n",
    "            loss = loss_mse(out, data)\n",
    "            test_loss += loss.item()\n",
    "            if epoch % 200 == 0:        \n",
    "                print('====> Epoch: {} Average test loss: {:.4f}'.format(\n",
    "                    epoch, test_loss / len(testloader.dataset)))\n",
    "            test_losses.append(test_loss / len(testloader.dataset))"
   ]
  },
  {
   "cell_type": "markdown",
   "id": "d3acbe80-8a00-4fe0-bb78-b9798a7295b9",
   "metadata": {},
   "source": [
    "## Train the model"
   ]
  },
  {
   "cell_type": "code",
   "execution_count": 447,
   "id": "17b899c4-e719-4d2e-b6df-59a59b1f15b9",
   "metadata": {},
   "outputs": [
    {
     "name": "stdout",
     "output_type": "stream",
     "text": [
      "====> Epoch: 5 Average training loss: 29.4436\n",
      "====> Epoch: 10 Average training loss: 26.2881\n",
      "====> Epoch: 15 Average training loss: 5.0575\n",
      "====> Epoch: 20 Average training loss: 3.5390\n",
      "====> Epoch: 25 Average training loss: 2.9539\n",
      "====> Epoch: 30 Average training loss: 2.8743\n",
      "====> Epoch: 35 Average training loss: 2.3016\n",
      "====> Epoch: 40 Average training loss: 2.0881\n",
      "====> Epoch: 45 Average training loss: 1.9538\n",
      "====> Epoch: 50 Average training loss: 1.8435\n",
      "====> Epoch: 55 Average training loss: 1.7973\n",
      "====> Epoch: 60 Average training loss: 2.4968\n",
      "====> Epoch: 65 Average training loss: 1.7209\n",
      "====> Epoch: 70 Average training loss: 1.5796\n",
      "====> Epoch: 75 Average training loss: 1.4676\n",
      "====> Epoch: 80 Average training loss: 1.3753\n",
      "====> Epoch: 85 Average training loss: 1.4206\n",
      "====> Epoch: 90 Average training loss: 1.4081\n",
      "====> Epoch: 95 Average training loss: 1.4646\n",
      "====> Epoch: 100 Average training loss: 1.3729\n"
     ]
    }
   ],
   "source": [
    "for epoch in range(1, epochs + 1):\n",
    "    train(epoch)\n",
    "    test(epoch)"
   ]
  },
  {
   "cell_type": "markdown",
   "id": "1d05b282-5828-408b-aa4d-a206024b84e3",
   "metadata": {},
   "source": [
    "## Save model weights"
   ]
  },
  {
   "cell_type": "code",
   "execution_count": 451,
   "id": "86b5ae04-b5dd-44da-82a3-a1ea9ce15d93",
   "metadata": {},
   "outputs": [],
   "source": [
    "torch.save(model.state_dict(), '../model/ae_model.pth')"
   ]
  },
  {
   "cell_type": "markdown",
   "id": "481be1c5-4637-499c-907d-968203b9343a",
   "metadata": {},
   "source": [
    "## Load the model"
   ]
  },
  {
   "cell_type": "code",
   "execution_count": 562,
   "id": "f65104c9-5668-497d-a79e-60d470dcce4e",
   "metadata": {},
   "outputs": [],
   "source": [
    "%%capture\n",
    "model = AutoEncoder().double()\n",
    "model.load_state_dict(torch.load('../model/ae_model.pth'))\n",
    "model.eval()"
   ]
  },
  {
   "cell_type": "code",
   "execution_count": 563,
   "id": "f04346b8-4b74-48ea-871d-1f5159805210",
   "metadata": {},
   "outputs": [],
   "source": [
    "traindata_set=DataBuilder(df, train=True)\n",
    "testdata_set=DataBuilder(df, train=False)\n",
    "\n",
    "trainloader=DataLoader(dataset=traindata_set,batch_size=1000)\n",
    "testloader=DataLoader(dataset=testdata_set,batch_size=1000)"
   ]
  },
  {
   "cell_type": "markdown",
   "id": "a7b354e4-474f-4109-98f0-796a08584d7a",
   "metadata": {},
   "source": [
    "## Generate embeddings for training and test data"
   ]
  },
  {
   "cell_type": "code",
   "execution_count": 564,
   "id": "06ccdce2-f8af-4fbb-bc66-b068c642d45f",
   "metadata": {},
   "outputs": [],
   "source": [
    "for batch_idx, (inp, y_train) in enumerate(trainloader):\n",
    "    data = inp.to(device).double().unsqueeze(dim=0).permute(1, 0, 2)\n",
    "    out, train_emb = model(data)\n",
    "for batch_idx, (inp, y_test) in enumerate(testloader):\n",
    "    data = inp.to(device).double().unsqueeze(dim=0).permute(1, 0, 2)\n",
    "    out, test_emb = model(data)"
   ]
  },
  {
   "cell_type": "markdown",
   "id": "6863222b-441b-4055-b83b-23e1d507edbd",
   "metadata": {},
   "source": [
    "## Concatenate embeddings and labels"
   ]
  },
  {
   "cell_type": "code",
   "execution_count": 565,
   "id": "52564dd2-5852-4607-b2b9-cd20fc68fbc7",
   "metadata": {},
   "outputs": [],
   "source": [
    "train_emb, test_emb = train_emb.cpu().detach().numpy(), test_emb.cpu().detach().numpy()\n",
    "y_train, y_test = y_train.cpu().detach().numpy(), y_test.cpu().detach().numpy()"
   ]
  },
  {
   "cell_type": "code",
   "execution_count": 566,
   "id": "e78b4fdd-10c5-4f63-8795-a8eeb8766712",
   "metadata": {},
   "outputs": [],
   "source": [
    "embeddings = np.concatenate([train_emb, test_emb])\n",
    "y_emb = np.concatenate([y_train, y_test])"
   ]
  },
  {
   "cell_type": "markdown",
   "id": "f68d90e8-aa86-4d94-b4d6-09e2a8c0a113",
   "metadata": {},
   "source": [
    "## Prepare data for training"
   ]
  },
  {
   "cell_type": "code",
   "execution_count": 567,
   "id": "dc274d5c-133b-4c3b-abb5-c77fe750989b",
   "metadata": {},
   "outputs": [],
   "source": [
    "X_train, X_test, y_train, y_test = train_test_split(embeddings, y_emb, test_size=config.TEST_SIZE, random_state=config.SEED)\n",
    "X_test, X_val, y_test, y_val = train_test_split(X_test, y_test, test_size=config.VAL_SIZE, random_state=config.SEED)"
   ]
  },
  {
   "cell_type": "code",
   "execution_count": 568,
   "id": "9bb59d58-d5a6-4d07-bddf-9989de4d7583",
   "metadata": {},
   "outputs": [],
   "source": [
    "if config.SCALER:\n",
    "    scaler = MinMaxScaler()\n",
    "    scaler.fit(X_train)\n",
    "    X_train = scaler.transform(X_train)\n",
    "    X_test = scaler.transform(X_test)\n",
    "    X_val = scaler.transform(X_val)"
   ]
  },
  {
   "cell_type": "code",
   "execution_count": 574,
   "id": "d35d8a12-6eba-4d54-a888-bde20c0430bb",
   "metadata": {},
   "outputs": [
    {
     "data": {
      "text/plain": [
       "SVC()"
      ]
     },
     "execution_count": 574,
     "metadata": {},
     "output_type": "execute_result"
    }
   ],
   "source": [
    "clf = svm.SVC()\n",
    "clf.fit(X_train, y_train)"
   ]
  },
  {
   "cell_type": "code",
   "execution_count": 575,
   "id": "0d058e08-3c70-410e-9786-4c9319116fee",
   "metadata": {},
   "outputs": [
    {
     "data": {
      "text/plain": [
       "array([0.91304348, 0.95326087, 0.90909091, 0.97619048, 1.        ])"
      ]
     },
     "execution_count": 575,
     "metadata": {},
     "output_type": "execute_result"
    }
   ],
   "source": [
    "cross_val_score(clf, X_train, y_train, cv=5, scoring='recall_macro')"
   ]
  },
  {
   "cell_type": "code",
   "execution_count": 576,
   "id": "7995d375-eca9-44b4-bbcf-766f13390755",
   "metadata": {},
   "outputs": [],
   "source": [
    "y_test_pred = clf.predict(X_test)\n",
    "y_val_pred = clf.predict(X_val)"
   ]
  },
  {
   "cell_type": "markdown",
   "id": "616a6108-46c3-48aa-b1de-e2ea40375689",
   "metadata": {},
   "source": [
    "## Generate precision, recall and accuracy report"
   ]
  },
  {
   "cell_type": "code",
   "execution_count": 577,
   "id": "0a597f07-cea4-4b95-95c3-2489c2d0884b",
   "metadata": {},
   "outputs": [
    {
     "name": "stdout",
     "output_type": "stream",
     "text": [
      "Precision, recall and accuracy score for the test set:  0.95 1.0 0.98\n"
     ]
    }
   ],
   "source": [
    "precision, acc, recall = precision_score(y_test, y_test_pred), accuracy_score(y_test, y_test_pred), recall_score(y_test, y_test_pred)\n",
    "print('Precision, recall and accuracy score for the test set: ', round(precision, 2), round(recall, 2), round(acc, 2))"
   ]
  },
  {
   "cell_type": "code",
   "execution_count": 578,
   "id": "8904fc1f-4d52-4fb5-a2b3-bbad1d5bfdb0",
   "metadata": {},
   "outputs": [
    {
     "name": "stdout",
     "output_type": "stream",
     "text": [
      "Precision, recall and accuracy score for the val set:  1.0 0.79 0.87\n"
     ]
    }
   ],
   "source": [
    "precision, acc, recall = precision_score(y_val, y_val_pred), accuracy_score(y_val, y_val_pred), recall_score(y_val, y_val_pred)\n",
    "print('Precision, recall and accuracy score for the val set: ', round(precision, 2), round(recall, 2), round(acc, 2))"
   ]
  }
 ],
 "metadata": {
  "kernelspec": {
   "display_name": "Python 3",
   "language": "python",
   "name": "python3"
  },
  "language_info": {
   "codemirror_mode": {
    "name": "ipython",
    "version": 3
   },
   "file_extension": ".py",
   "mimetype": "text/x-python",
   "name": "python",
   "nbconvert_exporter": "python",
   "pygments_lexer": "ipython3",
   "version": "3.8.12"
  }
 },
 "nbformat": 4,
 "nbformat_minor": 5
}
