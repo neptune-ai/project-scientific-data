{
 "cells": [
  {
   "cell_type": "code",
   "execution_count": null,
   "id": "e4313aaf-fdc5-4d69-93da-5129eaaed0f5",
   "metadata": {},
   "outputs": [],
   "source": [
    "import neptune.new as neptune\n",
    "import numpy as np\n",
    "import pandas as pd\n",
    "import plotly.express as px\n",
    "from sklearn import svm\n",
    "from sklearn.decomposition import PCA\n",
    "from sklearn.metrics import precision_score, accuracy_score, recall_score\n",
    "from sklearn.model_selection import train_test_split\n",
    "from sklearn.preprocessing import MinMaxScaler"
   ]
  },
  {
   "cell_type": "code",
   "execution_count": null,
   "id": "df27e4e8-259e-4617-8e2a-45bcab6cd1b5",
   "metadata": {},
   "outputs": [],
   "source": [
    "def log_raw_data(run: neptune.Run, base_namespace: str, df: pd.DataFrame):\n",
    "    run[f\"{base_namespace}/version\"].track_files(\n",
    "        \"../data/covid_and_healthy_spectra.csv\"\n",
    "    )\n",
    "\n",
    "    run[f\"{base_namespace}/n_rows\"] = df.shape[0]\n",
    "    run[f\"{base_namespace}/n_cols\"] = df.shape[1]\n",
    "\n",
    "    run[f\"{base_namespace}/target/n_Healthy\"] = df.diagnostic.value_counts()[\"Healthy\"]\n",
    "    run[f\"{base_namespace}/target/n_SARS-CoV-2\"] = df.diagnostic.value_counts()[\n",
    "        \"SARS-CoV-2\"\n",
    "    ]\n",
    "    run[f\"{base_namespace}/target/class_balance\"] = neptune.types.File.as_html(\n",
    "        px.histogram(df.diagnostic)\n",
    "    )\n",
    "\n",
    "    df.head(n=30).to_csv(\"data_sample.csv\")\n",
    "    run[f\"{base_namespace}/sample\"].upload(\"data_sample.csv\")\n",
    "\n",
    "\n",
    "def log_dataset(\n",
    "    run: neptune.Run,\n",
    "    base_namespace: str,\n",
    "    data: pd.DataFrame,\n",
    "    target: pd.Series,\n",
    "):\n",
    "    run[f\"{base_namespace}/n_rows\"] = data.shape[0]\n",
    "    run[f\"{base_namespace}/n_cols\"] = data.shape[1]\n",
    "\n",
    "    run[f\"{base_namespace}/target/n_Healthy\"] = target.value_counts()[0]\n",
    "    run[f\"{base_namespace}/target/n_SARS-CoV-2\"] = target.value_counts()[1]\n",
    "    run[f\"{base_namespace}/target/class_balance\"] = neptune.types.File.as_html(\n",
    "        px.histogram(target, text_auto=True)\n",
    "    )\n",
    "\n",
    "\n",
    "def log_training_report(run: neptune.Run, base_namespace: str, y_data: zip):\n",
    "    for dataset, y_pair in zip([\"train\", \"valid\", \"test\"], y_data):\n",
    "        run[f\"{base_namespace}/{dataset}/precision\"] = precision_score(\n",
    "            y_pair[0], y_pair[1]\n",
    "        )\n",
    "        run[f\"{base_namespace}/{dataset}/accuracy\"] = accuracy_score(\n",
    "            y_pair[0], y_pair[1]\n",
    "        )\n",
    "        # run[f\"{base_namespace}/{dataset}/recall\"] = recall_score(y_pair[0], y_pair[1])\n",
    "\n",
    "\n",
    "def log_pca(run: neptune.Run, base_namespace: str, pca: PCA):\n",
    "    run[f\"{base_namespace}/explained_variance_ratio\"].log(\n",
    "        list(pca.explained_variance_ratio_)\n",
    "    )\n",
    "    run[f\"{base_namespace}/singular_values\"].log(list(pca.singular_values_))\n",
    "\n",
    "    exp_var = np.cumsum(pca.explained_variance_ratio_)\n",
    "\n",
    "    fig = px.area(\n",
    "        x=range(1, exp_var.shape[0] + 1),\n",
    "        y=exp_var,\n",
    "        labels={\"x\": \"# Components\", \"y\": \"Explained Variance\"},\n",
    "    )\n",
    "\n",
    "    run[f\"{base_namespace}/explained_variance_chart\"] = neptune.types.File.as_html(fig)"
   ]
  },
  {
   "cell_type": "code",
   "execution_count": null,
   "id": "df3305c5-d234-4e25-8798-4b70749d6392",
   "metadata": {},
   "outputs": [],
   "source": [
    "from getpass import getpass\n",
    "api_token = getpass(\"Enter Neptune API token: \")"
   ]
  },
  {
   "cell_type": "code",
   "execution_count": null,
   "id": "2e38610a-68dc-4ea1-811d-6863ba69dcf5",
   "metadata": {},
   "outputs": [],
   "source": [
    "project = getpass(\"Enter project name: \")"
   ]
  },
  {
   "cell_type": "code",
   "execution_count": null,
   "id": "b24cc7a8-5d19-41f5-b7a4-0de73ae64492",
   "metadata": {},
   "outputs": [],
   "source": [
    "DATA_PATH = \"../data/covid_and_healthy_spectra.csv\""
   ]
  },
  {
   "cell_type": "markdown",
   "id": "fe9b5de1-3bb4-4419-8673-1624e1e400a2",
   "metadata": {},
   "source": [
    "#### Create Neptune run"
   ]
  },
  {
   "cell_type": "code",
   "execution_count": null,
   "id": "ea43242f-f49f-4b5a-95e8-ae5c6252b29b",
   "metadata": {},
   "outputs": [],
   "source": [
    "run = neptune.init_run(\n",
    "    api_token=api_token,\n",
    "    project=project,\n",
    "    source_files=[\"../environment.yml\"],\n",
    "    tags=[\"svm\", \"notebook-run\"],\n",
    ")"
   ]
  },
  {
   "cell_type": "markdown",
   "id": "3cd04f0d-4046-4cc0-b1ba-0e6a399c3f28",
   "metadata": {},
   "source": [
    "#### Log configuration"
   ]
  },
  {
   "cell_type": "code",
   "execution_count": null,
   "id": "77488e51-8336-4de7-8e28-90774cccfc9e",
   "metadata": {},
   "outputs": [],
   "source": [
    "config = {\n",
    "    \"test_size\": 0.30,\n",
    "    \"val_size\": 0.50,\n",
    "    \"scaler\": True,\n",
    "    \"pca\": True,\n",
    "    \"n_components\": 5,\n",
    "    \"seed\": 2022,\n",
    "    \"column_select\": False,\n",
    "    \"nth_column\": 10,\n",
    "    \"log_model\": True,\n",
    "}\n",
    "\n",
    "# (neptune) log config\n",
    "run[\"config\"] = config"
   ]
  },
  {
   "cell_type": "markdown",
   "id": "1b0c7551-ea4c-4480-9c8c-9d4509e1788b",
   "metadata": {},
   "source": [
    "#### Log data management info"
   ]
  },
  {
   "cell_type": "code",
   "execution_count": null,
   "id": "271b82dd-3ffb-4d9b-b22c-56a0eaaeba88",
   "metadata": {},
   "outputs": [],
   "source": [
    "df = pd.read_csv(DATA_PATH)\n",
    "\n",
    "# (neptune) log data version, data dimensions, target occurrences\n",
    "log_raw_data(run=run, base_namespace=\"data/raw\", df=df)\n",
    "\n",
    "df.diagnostic = df.diagnostic.apply(lambda x: 1 if x == \"SARS-CoV-2\" else 0)\n",
    "\n",
    "y = df.diagnostic\n",
    "df = df[df.columns.drop(\"diagnostic\")]\n",
    "X = df.iloc[:, :10]\n",
    "\n",
    "X_train, X_test, y_train, y_test = train_test_split(\n",
    "    X, y, test_size=config[\"test_size\"], random_state=config[\"seed\"]\n",
    ")\n",
    "X_test, X_val, y_test, y_val = train_test_split(\n",
    "    X_test, y_test, test_size=config[\"val_size\"], random_state=config[\"seed\"]\n",
    ")"
   ]
  },
  {
   "cell_type": "markdown",
   "id": "9fbd4daa-821e-4a54-a721-cd4aa6a11106",
   "metadata": {},
   "source": [
    "#### modeling pipeline, feature management, metrics reporting"
   ]
  },
  {
   "cell_type": "code",
   "execution_count": null,
   "id": "b4d7a349-5386-4ad1-b545-0abb199e2f16",
   "metadata": {},
   "outputs": [],
   "source": [
    "if config[\"scaler\"]:\n",
    "    scaler = MinMaxScaler()\n",
    "    scaler.fit(X_train)\n",
    "    X_train = scaler.transform(X_train)\n",
    "    X_test = scaler.transform(X_test)\n",
    "    X_val = scaler.transform(X_val)\n",
    "\n",
    "if config[\"pca\"]:\n",
    "    pca = PCA(n_components=config[\"n_components\"])\n",
    "    pca.fit(X_train)\n",
    "    X_train = pca.transform(X_train)\n",
    "    X_test = pca.transform(X_test)\n",
    "    X_val = pca.transform(X_val)\n",
    "\n",
    "    # (neptune) log PCA results\n",
    "    log_pca(run=run, base_namespace=\"data/pca\", pca=pca)\n",
    "\n",
    "# (neptune) log metadata for train, valid, test\n",
    "log_dataset(run=run, base_namespace=\"data/train\", data=X_train, target=y_train)\n",
    "log_dataset(run=run, base_namespace=\"data/valid\", data=X_val, target=y_val)\n",
    "log_dataset(run=run, base_namespace=\"data/test\", data=X_test, target=y_test)\n"
   ]
  },
  {
   "cell_type": "code",
   "execution_count": null,
   "id": "0478df62-57c3-4f44-9674-c33652289076",
   "metadata": {},
   "outputs": [],
   "source": [
    "clf = svm.SVC()\n",
    "clf.fit(X_train, y_train)\n",
    "\n",
    "y_train_pred = clf.predict(X_train)\n",
    "y_val_pred = clf.predict(X_val)\n",
    "y_test_pred = clf.predict(X_test)\n",
    "\n",
    "y_data = zip((y_train, y_val, y_test), (y_train_pred, y_val_pred, y_test_pred))\n",
    "\n",
    "# (neptune) log metrics\n",
    "log_training_report(run=run, base_namespace=\"modeling\", y_data=y_data)\n",
    "\n",
    "if config[\"log_model\"]:\n",
    "    run[\"modeling/pickled_model\"] = neptune.types.File.as_pickle(clf)"
   ]
  },
  {
   "cell_type": "code",
   "execution_count": null,
   "id": "7fd6063c-d258-4f99-a661-7d3a261471bb",
   "metadata": {},
   "outputs": [],
   "source": [
    "run.stop()"
   ]
  }
 ],
 "metadata": {
  "kernelspec": {
   "display_name": "Python 3 (ipykernel)",
   "language": "python",
   "name": "python3"
  },
  "language_info": {
   "codemirror_mode": {
    "name": "ipython",
    "version": 3
   },
   "file_extension": ".py",
   "mimetype": "text/x-python",
   "name": "python",
   "nbconvert_exporter": "python",
   "pygments_lexer": "ipython3",
   "version": "3.8.12"
  },
  "neptune": {
   "notebookId": "96b56be8-4034-4a64-b141-70f832b16d53",
   "projectVersion": 2
  }
 },
 "nbformat": 4,
 "nbformat_minor": 5
}
