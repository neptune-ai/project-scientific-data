{
 "cells": [
  {
   "cell_type": "code",
   "execution_count": 2,
   "id": "ed66f7aa-8902-4792-bddc-614d176deadd",
   "metadata": {},
   "outputs": [],
   "source": [
    "import numpy as np\n",
    "import pandas as pd\n",
    "\n",
    "from sklearn import svm\n",
    "from sklearn.decomposition import PCA\n",
    "from sklearn.preprocessing import MinMaxScaler\n",
    "from sklearn.model_selection import train_test_split\n",
    "from sklearn.model_selection import cross_val_score\n",
    "from sklearn.metrics import precision_score, accuracy_score, recall_score"
   ]
  },
  {
   "cell_type": "markdown",
   "id": "9f7388ed-0e18-4a6f-8acc-3f3609b3d73d",
   "metadata": {},
   "source": [
    "## Config"
   ]
  },
  {
   "cell_type": "code",
   "execution_count": 3,
   "id": "206a86a6-bcfe-43d5-8fb7-5a34d9e3c6d1",
   "metadata": {},
   "outputs": [],
   "source": [
    "class config:\n",
    "    TEST_SIZE = 0.30\n",
    "    VAL_SIZE = 0.50\n",
    "    N_COMPONENTS = 5\n",
    "    SCALER = False\n",
    "    SEED = 2022\n",
    "    COLUMN_SELECT = False\n",
    "    NTH_COLUMN = 10"
   ]
  },
  {
   "cell_type": "markdown",
   "id": "b34f9bb6-4c53-42c2-90fb-f477171a2bc8",
   "metadata": {},
   "source": [
    "## Basic data management"
   ]
  },
  {
   "cell_type": "code",
   "execution_count": 4,
   "id": "20cd471b-f3d2-4ab5-8ac4-dbb66dbd65b6",
   "metadata": {},
   "outputs": [],
   "source": [
    "df = pd.read_csv('../data/covid_and_healthy_spectra.csv')"
   ]
  },
  {
   "cell_type": "code",
   "execution_count": 574,
   "id": "1306422f-80de-4e36-a7a9-91cdd8360e8b",
   "metadata": {},
   "outputs": [],
   "source": [
    "if config.COLUMN_SELECT:\n",
    "    df = df[df.columns[::config.NTH_COLUMN]]"
   ]
  },
  {
   "cell_type": "code",
   "execution_count": 575,
   "id": "f5b7b747-fd1f-4739-835d-832f5c3256c5",
   "metadata": {},
   "outputs": [
    {
     "data": {
      "text/html": [
       "<div>\n",
       "<style scoped>\n",
       "    .dataframe tbody tr th:only-of-type {\n",
       "        vertical-align: middle;\n",
       "    }\n",
       "\n",
       "    .dataframe tbody tr th {\n",
       "        vertical-align: top;\n",
       "    }\n",
       "\n",
       "    .dataframe thead th {\n",
       "        text-align: right;\n",
       "    }\n",
       "</style>\n",
       "<table border=\"1\" class=\"dataframe\">\n",
       "  <thead>\n",
       "    <tr style=\"text-align: right;\">\n",
       "      <th></th>\n",
       "      <th>400</th>\n",
       "      <th>402</th>\n",
       "      <th>405</th>\n",
       "      <th>407</th>\n",
       "      <th>410</th>\n",
       "      <th>412</th>\n",
       "      <th>415</th>\n",
       "      <th>417</th>\n",
       "      <th>420</th>\n",
       "      <th>422</th>\n",
       "      <th>...</th>\n",
       "      <th>2101</th>\n",
       "      <th>2103</th>\n",
       "      <th>2104</th>\n",
       "      <th>2105</th>\n",
       "      <th>2107</th>\n",
       "      <th>2108</th>\n",
       "      <th>2109</th>\n",
       "      <th>2111</th>\n",
       "      <th>2112</th>\n",
       "      <th>diagnostic</th>\n",
       "    </tr>\n",
       "  </thead>\n",
       "  <tbody>\n",
       "    <tr>\n",
       "      <th>0</th>\n",
       "      <td>0.0</td>\n",
       "      <td>-0.015237</td>\n",
       "      <td>-0.030607</td>\n",
       "      <td>-0.038309</td>\n",
       "      <td>-0.039078</td>\n",
       "      <td>-0.035809</td>\n",
       "      <td>-0.031176</td>\n",
       "      <td>-0.030395</td>\n",
       "      <td>-0.033311</td>\n",
       "      <td>-0.031603</td>\n",
       "      <td>...</td>\n",
       "      <td>-0.000553</td>\n",
       "      <td>0.000118</td>\n",
       "      <td>0.000566</td>\n",
       "      <td>0.001245</td>\n",
       "      <td>0.000846</td>\n",
       "      <td>0.001106</td>\n",
       "      <td>0.001005</td>\n",
       "      <td>0.000117</td>\n",
       "      <td>0.0</td>\n",
       "      <td>Healthy</td>\n",
       "    </tr>\n",
       "    <tr>\n",
       "      <th>1</th>\n",
       "      <td>0.0</td>\n",
       "      <td>-0.012098</td>\n",
       "      <td>-0.028164</td>\n",
       "      <td>-0.035189</td>\n",
       "      <td>-0.036138</td>\n",
       "      <td>-0.031050</td>\n",
       "      <td>-0.026015</td>\n",
       "      <td>-0.027539</td>\n",
       "      <td>-0.028084</td>\n",
       "      <td>-0.027075</td>\n",
       "      <td>...</td>\n",
       "      <td>-0.000998</td>\n",
       "      <td>0.000278</td>\n",
       "      <td>-0.000123</td>\n",
       "      <td>0.000384</td>\n",
       "      <td>0.001010</td>\n",
       "      <td>0.000583</td>\n",
       "      <td>-0.000397</td>\n",
       "      <td>-0.000160</td>\n",
       "      <td>0.0</td>\n",
       "      <td>Healthy</td>\n",
       "    </tr>\n",
       "    <tr>\n",
       "      <th>2</th>\n",
       "      <td>0.0</td>\n",
       "      <td>-0.013000</td>\n",
       "      <td>-0.029058</td>\n",
       "      <td>-0.035021</td>\n",
       "      <td>-0.034994</td>\n",
       "      <td>-0.033025</td>\n",
       "      <td>-0.028413</td>\n",
       "      <td>-0.028470</td>\n",
       "      <td>-0.029737</td>\n",
       "      <td>-0.029198</td>\n",
       "      <td>...</td>\n",
       "      <td>-0.001554</td>\n",
       "      <td>0.000050</td>\n",
       "      <td>0.000866</td>\n",
       "      <td>0.000877</td>\n",
       "      <td>0.000871</td>\n",
       "      <td>0.001093</td>\n",
       "      <td>0.001058</td>\n",
       "      <td>0.000614</td>\n",
       "      <td>0.0</td>\n",
       "      <td>Healthy</td>\n",
       "    </tr>\n",
       "    <tr>\n",
       "      <th>3</th>\n",
       "      <td>0.0</td>\n",
       "      <td>-0.015728</td>\n",
       "      <td>-0.034346</td>\n",
       "      <td>-0.045140</td>\n",
       "      <td>-0.047671</td>\n",
       "      <td>-0.044334</td>\n",
       "      <td>-0.040807</td>\n",
       "      <td>-0.040474</td>\n",
       "      <td>-0.041417</td>\n",
       "      <td>-0.040699</td>\n",
       "      <td>...</td>\n",
       "      <td>-0.001541</td>\n",
       "      <td>-0.000198</td>\n",
       "      <td>0.000202</td>\n",
       "      <td>0.001023</td>\n",
       "      <td>0.000625</td>\n",
       "      <td>0.000420</td>\n",
       "      <td>0.000543</td>\n",
       "      <td>-0.000071</td>\n",
       "      <td>0.0</td>\n",
       "      <td>Healthy</td>\n",
       "    </tr>\n",
       "    <tr>\n",
       "      <th>4</th>\n",
       "      <td>0.0</td>\n",
       "      <td>-0.020355</td>\n",
       "      <td>-0.045839</td>\n",
       "      <td>-0.060556</td>\n",
       "      <td>-0.065805</td>\n",
       "      <td>-0.064988</td>\n",
       "      <td>-0.062097</td>\n",
       "      <td>-0.061955</td>\n",
       "      <td>-0.064759</td>\n",
       "      <td>-0.066886</td>\n",
       "      <td>...</td>\n",
       "      <td>-0.000088</td>\n",
       "      <td>0.000891</td>\n",
       "      <td>0.000942</td>\n",
       "      <td>0.001294</td>\n",
       "      <td>0.001878</td>\n",
       "      <td>0.001739</td>\n",
       "      <td>0.001946</td>\n",
       "      <td>0.001301</td>\n",
       "      <td>0.0</td>\n",
       "      <td>Healthy</td>\n",
       "    </tr>\n",
       "  </tbody>\n",
       "</table>\n",
       "<p>5 rows × 901 columns</p>\n",
       "</div>"
      ],
      "text/plain": [
       "   400       402       405       407       410       412       415       417  \\\n",
       "0  0.0 -0.015237 -0.030607 -0.038309 -0.039078 -0.035809 -0.031176 -0.030395   \n",
       "1  0.0 -0.012098 -0.028164 -0.035189 -0.036138 -0.031050 -0.026015 -0.027539   \n",
       "2  0.0 -0.013000 -0.029058 -0.035021 -0.034994 -0.033025 -0.028413 -0.028470   \n",
       "3  0.0 -0.015728 -0.034346 -0.045140 -0.047671 -0.044334 -0.040807 -0.040474   \n",
       "4  0.0 -0.020355 -0.045839 -0.060556 -0.065805 -0.064988 -0.062097 -0.061955   \n",
       "\n",
       "        420       422  ...      2101      2103      2104      2105      2107  \\\n",
       "0 -0.033311 -0.031603  ... -0.000553  0.000118  0.000566  0.001245  0.000846   \n",
       "1 -0.028084 -0.027075  ... -0.000998  0.000278 -0.000123  0.000384  0.001010   \n",
       "2 -0.029737 -0.029198  ... -0.001554  0.000050  0.000866  0.000877  0.000871   \n",
       "3 -0.041417 -0.040699  ... -0.001541 -0.000198  0.000202  0.001023  0.000625   \n",
       "4 -0.064759 -0.066886  ... -0.000088  0.000891  0.000942  0.001294  0.001878   \n",
       "\n",
       "       2108      2109      2111  2112  diagnostic  \n",
       "0  0.001106  0.001005  0.000117   0.0     Healthy  \n",
       "1  0.000583 -0.000397 -0.000160   0.0     Healthy  \n",
       "2  0.001093  0.001058  0.000614   0.0     Healthy  \n",
       "3  0.000420  0.000543 -0.000071   0.0     Healthy  \n",
       "4  0.001739  0.001946  0.001301   0.0     Healthy  \n",
       "\n",
       "[5 rows x 901 columns]"
      ]
     },
     "execution_count": 575,
     "metadata": {},
     "output_type": "execute_result"
    }
   ],
   "source": [
    "df.head()"
   ]
  },
  {
   "cell_type": "code",
   "execution_count": 548,
   "id": "544ae2a8-3201-4281-9862-fb645aee62e4",
   "metadata": {},
   "outputs": [],
   "source": [
    "df.diagnostic = df.diagnostic.apply(lambda x: 1 if x == 'SARS-CoV-2' else 0)"
   ]
  },
  {
   "cell_type": "code",
   "execution_count": 549,
   "id": "4e42cfec-8d75-41ca-aeb5-9379cb3b4afd",
   "metadata": {},
   "outputs": [
    {
     "name": "stdout",
     "output_type": "stream",
     "text": [
      "number of rows and columns in the dataset:  (309, 91)\n"
     ]
    }
   ],
   "source": [
    "print('number of rows and columns in the dataset: ', df.shape)"
   ]
  },
  {
   "cell_type": "code",
   "execution_count": 550,
   "id": "04235e0e-3cad-4a28-a40e-61d5acb7e667",
   "metadata": {},
   "outputs": [
    {
     "data": {
      "text/plain": [
       "1    159\n",
       "0    150\n",
       "Name: diagnostic, dtype: int64"
      ]
     },
     "execution_count": 550,
     "metadata": {},
     "output_type": "execute_result"
    }
   ],
   "source": [
    "df.diagnostic.value_counts()"
   ]
  },
  {
   "cell_type": "code",
   "execution_count": 551,
   "id": "26aacd36-736c-4df1-9bad-23125df30f08",
   "metadata": {},
   "outputs": [],
   "source": [
    "y = df.diagnostic\n",
    "X = df[df.columns.drop('diagnostic')]"
   ]
  },
  {
   "cell_type": "code",
   "execution_count": 552,
   "id": "5e372200-4559-46b4-83b7-2c7cb47a924a",
   "metadata": {},
   "outputs": [],
   "source": [
    "X_train, X_test, y_train, y_test = train_test_split(X, y, test_size=config.TEST_SIZE, random_state=config.SEED)\n",
    "X_test, X_val, y_test, y_val = train_test_split(X_test, y_test, test_size=config.VAL_SIZE, random_state=config.SEED)"
   ]
  },
  {
   "cell_type": "code",
   "execution_count": 553,
   "id": "bbebc604-7b3c-4087-b477-9fd87d5eefde",
   "metadata": {},
   "outputs": [
    {
     "data": {
      "text/plain": [
       "(216, 90)"
      ]
     },
     "execution_count": 553,
     "metadata": {},
     "output_type": "execute_result"
    }
   ],
   "source": [
    "X_train.shape"
   ]
  },
  {
   "cell_type": "code",
   "execution_count": 554,
   "id": "30c77b8f-9e11-433b-b3cb-53eda19ba97e",
   "metadata": {},
   "outputs": [
    {
     "data": {
      "text/plain": [
       "(46, 90)"
      ]
     },
     "execution_count": 554,
     "metadata": {},
     "output_type": "execute_result"
    }
   ],
   "source": [
    "X_test.shape"
   ]
  },
  {
   "cell_type": "code",
   "execution_count": 555,
   "id": "4158d10c-49f1-400a-b0fe-459de1fa473a",
   "metadata": {},
   "outputs": [
    {
     "data": {
      "text/plain": [
       "(47, 90)"
      ]
     },
     "execution_count": 555,
     "metadata": {},
     "output_type": "execute_result"
    }
   ],
   "source": [
    "X_val.shape"
   ]
  },
  {
   "cell_type": "code",
   "execution_count": 556,
   "id": "89ebb7bc-ce63-479c-967f-92059976c458",
   "metadata": {},
   "outputs": [
    {
     "data": {
      "text/plain": [
       "1    113\n",
       "0    103\n",
       "Name: diagnostic, dtype: int64"
      ]
     },
     "execution_count": 556,
     "metadata": {},
     "output_type": "execute_result"
    }
   ],
   "source": [
    "y_train.value_counts()"
   ]
  },
  {
   "cell_type": "code",
   "execution_count": 557,
   "id": "d1448c0a-049d-40cb-b73a-ca8051a890c1",
   "metadata": {},
   "outputs": [
    {
     "data": {
      "text/plain": [
       "1    24\n",
       "0    22\n",
       "Name: diagnostic, dtype: int64"
      ]
     },
     "execution_count": 557,
     "metadata": {},
     "output_type": "execute_result"
    }
   ],
   "source": [
    "y_test.value_counts()"
   ]
  },
  {
   "cell_type": "code",
   "execution_count": 558,
   "id": "b05f4132-4986-4c78-890c-e402dea6e338",
   "metadata": {},
   "outputs": [
    {
     "data": {
      "text/plain": [
       "0    25\n",
       "1    22\n",
       "Name: diagnostic, dtype: int64"
      ]
     },
     "execution_count": 558,
     "metadata": {},
     "output_type": "execute_result"
    }
   ],
   "source": [
    "y_val.value_counts()"
   ]
  },
  {
   "cell_type": "markdown",
   "id": "c50c2655-432c-4b09-bdb4-18da8f8089a7",
   "metadata": {},
   "source": [
    "## Classic custom modeling pipeline and feature management"
   ]
  },
  {
   "cell_type": "code",
   "execution_count": 559,
   "id": "9d276d91-e82d-41c2-bbd8-b4235c12cd45",
   "metadata": {},
   "outputs": [],
   "source": [
    "if config.SCALER:\n",
    "    scaler = MinMaxScaler()\n",
    "    scaler.fit(X_train)\n",
    "    X_train = scaler.transform(X_train)\n",
    "    X_test = scaler.transform(X_test)\n",
    "    X_val = scaler.transform(X_val)"
   ]
  },
  {
   "cell_type": "code",
   "execution_count": 560,
   "id": "43cba4be-f09e-40a8-9a10-7b1dc10c8f0b",
   "metadata": {},
   "outputs": [],
   "source": [
    "pca = PCA(n_components=config.N_COMPONENTS)\n",
    "pca.fit(X_train)\n",
    "X_train = pca.transform(X_train)\n",
    "X_test = pca.transform(X_test)\n",
    "X_val = pca.transform(X_val)"
   ]
  },
  {
   "cell_type": "code",
   "execution_count": 561,
   "id": "ff4c3956-0a96-4a6e-8bb3-fdef8f9b8934",
   "metadata": {},
   "outputs": [
    {
     "name": "stdout",
     "output_type": "stream",
     "text": [
      "[0.71737158 0.15898134 0.06321143 0.02474452 0.00973507]\n"
     ]
    }
   ],
   "source": [
    "print(pca.explained_variance_ratio_)"
   ]
  },
  {
   "cell_type": "code",
   "execution_count": 562,
   "id": "25315eb0-fb27-4e0f-93b2-77b34e63cfee",
   "metadata": {},
   "outputs": [
    {
     "name": "stdout",
     "output_type": "stream",
     "text": [
      "[1.22290356 0.57569599 0.36300945 0.22712222 0.14245893]\n"
     ]
    }
   ],
   "source": [
    "print(pca.singular_values_)"
   ]
  },
  {
   "cell_type": "code",
   "execution_count": 563,
   "id": "d1a59f5f-f3a8-4db3-8524-c02856a45b51",
   "metadata": {},
   "outputs": [
    {
     "data": {
      "text/plain": [
       "SVC()"
      ]
     },
     "execution_count": 563,
     "metadata": {},
     "output_type": "execute_result"
    }
   ],
   "source": [
    "clf = svm.SVC()\n",
    "clf.fit(X_train, y_train)"
   ]
  },
  {
   "cell_type": "code",
   "execution_count": 564,
   "id": "bf04049b-4d10-473b-bf51-37739f26bbfa",
   "metadata": {},
   "outputs": [
    {
     "data": {
      "text/plain": [
       "array([0.91097308, 0.93181818, 0.93181818, 0.81304348, 0.90326087])"
      ]
     },
     "execution_count": 564,
     "metadata": {},
     "output_type": "execute_result"
    }
   ],
   "source": [
    "cross_val_score(clf, X_train, y_train, cv=5, scoring='recall_macro')"
   ]
  },
  {
   "cell_type": "code",
   "execution_count": 565,
   "id": "bd6ec712-32ce-4b95-9909-4943560f79d7",
   "metadata": {},
   "outputs": [],
   "source": [
    "y_test_pred = clf.predict(X_test)\n",
    "y_val_pred = clf.predict(X_val)"
   ]
  },
  {
   "cell_type": "code",
   "execution_count": 568,
   "id": "675d56fb-4d91-44c7-8bff-0ee030c5a129",
   "metadata": {},
   "outputs": [
    {
     "name": "stdout",
     "output_type": "stream",
     "text": [
      "precision, recall and accuracy score for the model:  1.0 0.9166666666666666 0.9565217391304348\n"
     ]
    }
   ],
   "source": [
    "precision, acc, recall = precision_score(y_test, y_test_pred), accuracy_score(y_test, y_test_pred), recall_score(y_test, y_test_pred)\n",
    "print('Precision, recall and accuracy score for the test set: ', round(precision, 2), round(recall, 2), round(acc, 2))"
   ]
  },
  {
   "cell_type": "code",
   "execution_count": 569,
   "id": "89be5d6a-7c1d-41b7-8fe0-abd951545854",
   "metadata": {},
   "outputs": [
    {
     "name": "stdout",
     "output_type": "stream",
     "text": [
      "precision, recall and accuracy score for the model:  1.0 0.8181818181818182 0.9148936170212766\n"
     ]
    }
   ],
   "source": [
    "precision, acc, recall = precision_score(y_val, y_val_pred), accuracy_score(y_val, y_val_pred), recall_score(y_val, y_val_pred)\n",
    "print('Precision, recall and accuracy score for the val set: ', round(precision, 2), round(recall, 2), round(acc, 2))"
   ]
  },
  {
   "cell_type": "markdown",
   "id": "f1f19e1a-778f-4944-923d-edc8d35d3791",
   "metadata": {},
   "source": [
    "- name of the dataset or size of it\n",
    "- size of the splits and dataset"
   ]
  }
 ],
 "metadata": {
  "kernelspec": {
   "display_name": "Python 3",
   "language": "python",
   "name": "python3"
  },
  "language_info": {
   "codemirror_mode": {
    "name": "ipython",
    "version": 3
   },
   "file_extension": ".py",
   "mimetype": "text/x-python",
   "name": "python",
   "nbconvert_exporter": "python",
   "pygments_lexer": "ipython3",
   "version": "3.8.12"
  }
 },
 "nbformat": 4,
 "nbformat_minor": 5
}
